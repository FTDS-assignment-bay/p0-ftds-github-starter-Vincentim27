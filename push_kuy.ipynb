{
 "cells": [
  {
   "cell_type": "markdown",
   "metadata": {},
   "source": [
    "# Push Yuk!"
   ]
  },
  {
   "cell_type": "markdown",
   "metadata": {},
   "source": [
    "#### Cara agar enter baris baru, bukan lanjut 1 baris\n",
    "Name  : Vincent  \n",
    "Batch : RMT_47\n",
    "\n",
    "Problem Statement: Banyak student yg belum tau cara ini.</br>\n",
    "Objektif: Belajar cara menulis markdown dan push yg baik dan benar :)"
   ]
  },
  {
   "cell_type": "markdown",
   "metadata": {},
   "source": [
    "---"
   ]
  },
  {
   "cell_type": "markdown",
   "metadata": {},
   "source": [
    "1. `git clone <link ssh>` -> untuk meng'download' repo tugas\n",
    "2. `cd <ke repo lokal>` -> untuk pindah folder ke repo lokal\n",
    "3. Buat file assignment ATAU pindahkan file assignment ke dalam repo lokal</br>\n",
    "--semisal ada updates dan mau push lagi, ulang dari step 4, bukan dari step 1 ya..--\n",
    "4. `git status` -> untuk cek file baru di repo lokal sudah terdeteksi(harusnya warna merah)\n",
    "5. `git add .` -> untuk memasukan file baru tsb ke stage mode\n",
    "6. `git status` -> untuk cek file baru tsb yg sdh di stage mode (harusnya warna hijau)\n",
    "7. `git commit -m \"<message nya apa?>\"` -> untuk memberi keterangan push\n",
    "8. `git push` -> untuk 'upload' file ke repository gitclassroom.\n",
    "9. Cek lagi file di repo git, sudah sesuai dgn yg kita buat atau belum?"
   ]
  },
  {
   "cell_type": "markdown",
   "metadata": {},
   "source": [
    "# #Header"
   ]
  },
  {
   "cell_type": "markdown",
   "metadata": {},
   "source": [
    "\n",
    "## ##subheader\n",
    "### ###sub subheader\n",
    ".  \n",
    ".  \n",
    ".  \n",
    "###### ######dst level 6 (6 hastags)"
   ]
  },
  {
   "cell_type": "markdown",
   "metadata": {},
   "source": [
    "`*...*` -> *ini italic*  \n",
    "`**...**` -> **ini bold**  \n",
    "`***...***` -> ***ini bold italic***  \n",
    "`` -> ini petik utk sintaks/rumus dalam markdown/text  \n",
    "'' -> single quote/single string/kutip 1  \n",
    "\"\" -> double quotes/double strings/kutip 2 "
   ]
  },
  {
   "cell_type": "markdown",
   "metadata": {},
   "source": [
    "rumus bisa pakai simbol dolar, contoh:  \n",
    "y = 2x^2 + 5 (tanpa simbol $)\n",
    "\n",
    "$ y = 2x^2 + 5 $ (dgn simbol $)\n",
    "\n",
    "kalo pengen di tengah, double dolar:  \n",
    "$$ y = 2x^2 + 5 $$ "
   ]
  },
  {
   "cell_type": "markdown",
   "metadata": {},
   "source": [
    "### fungsi petik\n",
    "\n",
    "Semisal kalian mau taruh sintaks sql di markdown utk dokumentasi:\n",
    "\n",
    "```sql\n",
    "SELECT * FROM TABLE_A\n",
    "WHERE kota = 'jkt'\n",
    "ORDER BY age\n",
    "```\n",
    "\n",
    "Contoh python:\n",
    "```py\n",
    "def rumus_luas(p,l):\n",
    "    return p*l\n",
    "```"
   ]
  },
  {
   "cell_type": "markdown",
   "metadata": {},
   "source": [
    "### tingkatan\n",
    "\n",
    "1. RMT_47_students:\n",
    "   - Boy:\n",
    "       - Naufal\n",
    "       - Alwi\n",
    "       - Awal\n",
    "       - Wesley\n",
    "       - Irsyad\n",
    "   - Girl:\n",
    "      - Annisa\n",
    "      - Ade"
   ]
  },
  {
   "cell_type": "markdown",
   "metadata": {},
   "source": [
    "---"
   ]
  },
  {
   "cell_type": "markdown",
   "metadata": {},
   "source": [
    "$$ End $$"
   ]
  },
  {
   "cell_type": "markdown",
   "metadata": {},
   "source": [
    "---"
   ]
  }
 ],
 "metadata": {
  "kernelspec": {
   "display_name": "base",
   "language": "python",
   "name": "python3"
  },
  "language_info": {
   "codemirror_mode": {
    "name": "ipython",
    "version": 3
   },
   "file_extension": ".py",
   "mimetype": "text/x-python",
   "name": "python",
   "nbconvert_exporter": "python",
   "pygments_lexer": "ipython3",
   "version": "3.10.18"
  }
 },
 "nbformat": 4,
 "nbformat_minor": 2
}
